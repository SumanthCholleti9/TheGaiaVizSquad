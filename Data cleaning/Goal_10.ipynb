{
 "cells": [
  {
   "cell_type": "code",
   "execution_count": 1,
   "id": "ea7aedfd-4089-4972-a3f0-49e5e719baaa",
   "metadata": {},
   "outputs": [],
   "source": [
    "import pandas as pd\n",
    "pd.options.display.max_columns = None\n",
    "import warnings\n",
    "warnings.filterwarnings(\"ignore\")"
   ]
  },
  {
   "cell_type": "code",
   "execution_count": 2,
   "id": "f8c12727-19eb-49e7-95c0-c5461f69931c",
   "metadata": {},
   "outputs": [],
   "source": [
    "Goal10 = pd.read_csv(\"Goal_10.csv\")"
   ]
  },
  {
   "cell_type": "code",
   "execution_count": 3,
   "id": "3d0ccb29-c4a4-41fd-8de2-01c479a0c1c1",
   "metadata": {},
   "outputs": [],
   "source": [
    "Goal10.loc[Goal10['GeoAreaName'] == \"United States of America\", 'GeoAreaName'] = \"United States\""
   ]
  },
  {
   "cell_type": "code",
   "execution_count": 4,
   "id": "c050684e-c37e-4943-b4bd-887b1083d9a4",
   "metadata": {},
   "outputs": [],
   "source": [
    "Goal10 = Goal10[Goal10['Value'] != 'N']"
   ]
  },
  {
   "cell_type": "code",
   "execution_count": 5,
   "id": "b59dee83-646a-42aa-b098-f84202828353",
   "metadata": {},
   "outputs": [],
   "source": [
    "Goal10 = Goal10[Goal10['TimePeriod'] >= 2015]"
   ]
  },
  {
   "cell_type": "code",
   "execution_count": 6,
   "id": "18d7adc7-6e02-4d48-a86c-5617ca2854be",
   "metadata": {},
   "outputs": [],
   "source": [
    "columnsCompletelyNull = Goal10.isna().sum().to_dict()"
   ]
  },
  {
   "cell_type": "code",
   "execution_count": 7,
   "id": "18ff8c1c-cf7c-4733-98f1-e8f5fc847c13",
   "metadata": {},
   "outputs": [
    {
     "data": {
      "text/plain": [
       "{'Unnamed: 0': 0,\n",
       " 'ID': 0,\n",
       " 'Goal': 0,\n",
       " 'Target': 0,\n",
       " 'Indicator': 0,\n",
       " 'ReleaseStatus': 0,\n",
       " 'ReleaseName': 0,\n",
       " 'SeriesID': 0,\n",
       " 'SeriesCode': 0,\n",
       " 'isDSDSeries': 0,\n",
       " 'SeriesDescription': 0,\n",
       " 'SeriesObservationCount': 0,\n",
       " 'GeoAreaCode': 0,\n",
       " 'GeoAreaName': 0,\n",
       " 'TimePeriod': 0,\n",
       " 'Value': 1881,\n",
       " 'ValueType': 0,\n",
       " 'Time_Detail': 0,\n",
       " 'TimeCoverage': 58137,\n",
       " 'UpperBound': 58137,\n",
       " 'LowerBound': 58137,\n",
       " 'BasePeriod': 58137,\n",
       " 'Source': 0,\n",
       " 'GeoInfoUrl': 58137,\n",
       " 'FootNote': 42920,\n",
       " 'ObservationID': 0,\n",
       " 'Age': 58137,\n",
       " 'Freq': 58137,\n",
       " 'Location': 53614,\n",
       " 'Nature': 0,\n",
       " 'Sex': 53608,\n",
       " 'UnitMultiplier': 58137,\n",
       " 'Units': 0,\n",
       " 'Level/Status': 58137,\n",
       " 'Name of international agreement': 58137,\n",
       " 'Education level': 58137,\n",
       " 'Type of product': 46697,\n",
       " 'Type of facilities': 58137,\n",
       " 'Name of international institution': 38403,\n",
       " 'Type of occupation': 58137,\n",
       " 'Tariff regime (status)': 58137,\n",
       " 'Type of skill': 58137,\n",
       " 'Mode of transportation': 58137,\n",
       " 'Type of mobile technology': 58137,\n",
       " 'Name of non-communicable disease': 58137,\n",
       " 'Type of speed': 58137,\n",
       " 'Migratory status': 58131,\n",
       " 'Disability status': 53614,\n",
       " 'Hazard type': 58137,\n",
       " 'IHR Capacity': 58137,\n",
       " 'Cities': 58137,\n",
       " 'Reporting Type': 0,\n",
       " 'Quantile': 57485,\n",
       " 'Activity': 58137,\n",
       " 'Observation Status': 45673,\n",
       " 'Policy Domains': 56205,\n",
       " 'Policy instruments': 58137,\n",
       " 'Sampling Stations': 58137,\n",
       " 'Type of waste treatment': 58137,\n",
       " 'Grounds of discrimination': 53614,\n",
       " 'Parliamentary committees': 58137,\n",
       " 'Cause of death': 58137,\n",
       " 'Substance use disorders': 58137,\n",
       " 'Mountain Elevation': 58137,\n",
       " 'Deviation Level': 58137,\n",
       " 'Frequency of Chlorophyll-a concentration': 58137,\n",
       " 'Food Waste Sector': 58137,\n",
       " 'Fiscal intervention stage': 57504,\n",
       " 'Level of requirement': 58137,\n",
       " 'Type of support': 58137,\n",
       " 'Report Ordinal': 58137,\n",
       " 'Counterpart': 53757,\n",
       " 'Government_Name': 58137,\n",
       " 'Severity of price levels': 58137,\n",
       " 'Level_of_government': 58137,\n",
       " 'Type of renewable technology': 58137,\n",
       " 'Population Group': 58137,\n",
       " 'Custom Breakdown': 58137,\n",
       " 'Service Attribute': 58137,\n",
       " 'Land cover': 58137,\n",
       " 'Bioclimatic belt': 58137,\n",
       " 'Illicit Financial Flows': 58137,\n",
       " 'Nutrient Loading': 58137,\n",
       " 'Type of OFDI scheme': 58137}"
      ]
     },
     "execution_count": 7,
     "metadata": {},
     "output_type": "execute_result"
    }
   ],
   "source": [
    "columnsCompletelyNull"
   ]
  },
  {
   "cell_type": "code",
   "execution_count": 8,
   "id": "e4ca24f5-3cd3-43e7-ae05-c9d6ac77d7f5",
   "metadata": {},
   "outputs": [],
   "source": [
    "Goal10 = Goal10.dropna(subset=['Value'])"
   ]
  },
  {
   "cell_type": "code",
   "execution_count": 9,
   "id": "0ae6e156-cd73-4edc-9c82-f97e14d0d8cf",
   "metadata": {},
   "outputs": [],
   "source": [
    "Goal10 = Goal10.dropna(axis = 1, how= \"all\")"
   ]
  },
  {
   "cell_type": "code",
   "execution_count": 10,
   "id": "630e2d9c-7bd9-441a-b1d9-8b5507d2b7aa",
   "metadata": {},
   "outputs": [],
   "source": [
    "Goal10.fillna('', inplace=True)"
   ]
  },
  {
   "cell_type": "code",
   "execution_count": 11,
   "id": "9ec649aa-78e1-4c4c-84dc-e3fb540b5df2",
   "metadata": {},
   "outputs": [
    {
     "data": {
      "text/plain": [
       "Index(['Unnamed: 0', 'ID', 'Goal', 'Target', 'Indicator', 'ReleaseStatus',\n",
       "       'ReleaseName', 'SeriesID', 'SeriesCode', 'isDSDSeries',\n",
       "       'SeriesDescription', 'SeriesObservationCount', 'GeoAreaCode',\n",
       "       'GeoAreaName', 'TimePeriod', 'Value', 'ValueType', 'Time_Detail',\n",
       "       'Source', 'FootNote', 'ObservationID', 'Location', 'Nature', 'Sex',\n",
       "       'Units', 'Type of product', 'Name of international institution',\n",
       "       'Migratory status', 'Disability status', 'Reporting Type', 'Quantile',\n",
       "       'Observation Status', 'Policy Domains', 'Grounds of discrimination',\n",
       "       'Fiscal intervention stage', 'Counterpart'],\n",
       "      dtype='object')"
      ]
     },
     "execution_count": 11,
     "metadata": {},
     "output_type": "execute_result"
    }
   ],
   "source": [
    "Goal10.columns"
   ]
  },
  {
   "cell_type": "code",
   "execution_count": 12,
   "id": "92bf1e6d-53b7-4156-bc3e-da41aab62a0c",
   "metadata": {},
   "outputs": [
    {
     "name": "stdout",
     "output_type": "stream",
     "text": [
      "         Merged_Data\n",
      "0            _T     \n",
      "1           B40     \n",
      "2            _T     \n",
      "3           B40     \n",
      "4           B40     \n",
      "...              ...\n",
      "86970               \n",
      "86971               \n",
      "86972               \n",
      "86973               \n",
      "86974               \n",
      "\n",
      "[56256 rows x 1 columns]\n"
     ]
    }
   ],
   "source": [
    "Goal10['Merged_Data'] = Goal10['Location'] + ' ' + Goal10['Sex'] + ' ' + Goal10['Type of product']+' '+Goal10['Name of international institution'] +' '+ Goal10['Disability status']+' '+ Goal10[ 'Quantile']+' '+ Goal10[ 'Observation Status']+' '+ Goal10['Policy Domains']+' '+ Goal10[ 'Grounds of discrimination']+' '+ Goal10['Fiscal intervention stage']+' '+ Goal10['Counterpart']\n",
    "print(Goal10[['Merged_Data']])"
   ]
  },
  {
   "cell_type": "code",
   "execution_count": 13,
   "id": "4203f2fe-8751-4150-9935-55b7bf3ca0bf",
   "metadata": {},
   "outputs": [],
   "source": [
    "goal10ReducedColumns = Goal10[[\"Indicator\", \"SeriesID\", \"Value\", \"TimePeriod\",\"GeoAreaName\",\"Merged_Data\"]]"
   ]
  },
  {
   "cell_type": "code",
   "execution_count": 14,
   "id": "4045c76f-93c1-4943-bf37-09468fb19e23",
   "metadata": {},
   "outputs": [
    {
     "data": {
      "text/plain": [
       "0        6.96\n",
       "1        8.81\n",
       "2       -2.52\n",
       "3       -2.19\n",
       "4       -0.49\n",
       "         ... \n",
       "86970    5.71\n",
       "86971    5.42\n",
       "86972    5.36\n",
       "86973    5.14\n",
       "86974    5.61\n",
       "Name: Value, Length: 56256, dtype: object"
      ]
     },
     "execution_count": 14,
     "metadata": {},
     "output_type": "execute_result"
    }
   ],
   "source": [
    "goal10ReducedColumns[\"Value\"]"
   ]
  },
  {
   "cell_type": "code",
   "execution_count": 15,
   "id": "db12dcca-a206-409e-bde7-cf8f35dee0b5",
   "metadata": {},
   "outputs": [],
   "source": [
    "goal10ReducedColumns[\"Value\"] = goal10ReducedColumns[\"Value\"].astype(\"float\")"
   ]
  },
  {
   "cell_type": "code",
   "execution_count": 16,
   "id": "91738b8f-4c95-436b-b041-53a93c7cef57",
   "metadata": {},
   "outputs": [],
   "source": [
    "goal10ReducedColumns= goal10ReducedColumns[(goal10ReducedColumns['Value'] > 0)]"
   ]
  },
  {
   "cell_type": "code",
   "execution_count": 17,
   "id": "c85c7e65-7180-444b-85b5-e90475bb5fee",
   "metadata": {},
   "outputs": [
    {
     "data": {
      "text/plain": [
       "Indicator\n",
       "10.1.1    5.320500e+02\n",
       "10.2.1    5.834600e+03\n",
       "10.3.1    2.847079e+04\n",
       "10.4.1    6.690690e+04\n",
       "10.4.2    1.692527e+04\n",
       "10.5.1    1.376177e+05\n",
       "10.6.1    3.929230e+04\n",
       "10.7.1    4.430000e+01\n",
       "10.7.2    3.894137e+04\n",
       "10.7.3    2.106490e+05\n",
       "10.7.4    1.141124e+06\n",
       "10.a.1    6.804047e+05\n",
       "10.b.1    1.266427e+07\n",
       "10.c.1    3.334294e+04\n",
       "Name: Value, dtype: float64"
      ]
     },
     "execution_count": 17,
     "metadata": {},
     "output_type": "execute_result"
    }
   ],
   "source": [
    "goal10ReducedColumns.groupby(\"Indicator\")[\"Value\"].sum()"
   ]
  },
  {
   "cell_type": "code",
   "execution_count": 18,
   "id": "4dcb870f-a8ff-45bd-accc-fea9a4ae64ed",
   "metadata": {},
   "outputs": [],
   "source": [
    " goal10ReducedColumns[\"Value\"] /= goal10ReducedColumns.groupby(\"Indicator\")[\"Value\"].transform(sum)"
   ]
  },
  {
   "cell_type": "code",
   "execution_count": 19,
   "id": "046dbe72-c982-417f-b239-c5d641adb937",
   "metadata": {},
   "outputs": [
    {
     "data": {
      "text/plain": [
       "0        0.013081\n",
       "1        0.016559\n",
       "6        0.002425\n",
       "7        0.003026\n",
       "8        0.002537\n",
       "           ...   \n",
       "86970    0.000171\n",
       "86971    0.000163\n",
       "86972    0.000161\n",
       "86973    0.000154\n",
       "86974    0.000168\n",
       "Name: Value, Length: 54979, dtype: float64"
      ]
     },
     "execution_count": 19,
     "metadata": {},
     "output_type": "execute_result"
    }
   ],
   "source": [
    " goal10ReducedColumns[\"Value\"]"
   ]
  },
  {
   "cell_type": "code",
   "execution_count": 20,
   "id": "7c56fad0-fd7b-4090-b3ce-aace25e847b4",
   "metadata": {},
   "outputs": [
    {
     "data": {
      "text/plain": [
       "0.4311512415349887"
      ]
     },
     "execution_count": 20,
     "metadata": {},
     "output_type": "execute_result"
    }
   ],
   "source": [
    "goal10ReducedColumns[\"Value\"].max()"
   ]
  },
  {
   "cell_type": "code",
   "execution_count": 21,
   "id": "7f002b99-7854-4c44-8f59-c8c390ea4598",
   "metadata": {},
   "outputs": [],
   "source": [
    "goal10ReducedColumns[\"Value\"] = goal10ReducedColumns[\"Value\"]*7 + 1"
   ]
  },
  {
   "cell_type": "code",
   "execution_count": 22,
   "id": "eb909e0f-edcb-4ea6-8778-cce7a5708658",
   "metadata": {},
   "outputs": [
    {
     "data": {
      "text/plain": [
       "count    54979.000000\n",
       "mean         1.001782\n",
       "std          0.019155\n",
       "min          1.000000\n",
       "25%          1.000097\n",
       "50%          1.000458\n",
       "75%          1.000938\n",
       "max          4.018059\n",
       "Name: Value, dtype: float64"
      ]
     },
     "execution_count": 22,
     "metadata": {},
     "output_type": "execute_result"
    }
   ],
   "source": [
    "goal10ReducedColumns.Value.describe()"
   ]
  },
  {
   "cell_type": "code",
   "execution_count": 23,
   "id": "a3a5f5d6-2d53-471d-98bd-d0232723f339",
   "metadata": {},
   "outputs": [],
   "source": [
    "goal10ReducedColumns.to_csv(\"Goal10_cleaned.csv\", index = False)"
   ]
  },
  {
   "cell_type": "code",
   "execution_count": null,
   "id": "7a564840-69ac-448a-98b1-5a0f610a2c7d",
   "metadata": {},
   "outputs": [],
   "source": []
  }
 ],
 "metadata": {
  "kernelspec": {
   "display_name": "Python 3 (ipykernel)",
   "language": "python",
   "name": "python3"
  },
  "language_info": {
   "codemirror_mode": {
    "name": "ipython",
    "version": 3
   },
   "file_extension": ".py",
   "mimetype": "text/x-python",
   "name": "python",
   "nbconvert_exporter": "python",
   "pygments_lexer": "ipython3",
   "version": "3.12.2"
  }
 },
 "nbformat": 4,
 "nbformat_minor": 5
}
