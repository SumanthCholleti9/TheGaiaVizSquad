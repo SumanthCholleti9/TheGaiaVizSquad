{
 "cells": [
  {
   "cell_type": "code",
   "execution_count": null,
   "id": "b4afc912",
   "metadata": {},
   "outputs": [],
   "source": [
    "import pandas as pd\n",
    "\n",
    "\n",
    "# Code to split the csv into 17 csv files based on the GOAL \n",
    "def split_df_by_goal(op_folder_loc):\n",
    "    df1 = pd.read_csv(\"2023_Q3.2_AllData_Before_20231215.csv\")\n",
    "    no_of_goals = df1['Goal'].unique()\n",
    "    \n",
    "    for i in no_of_goals:\n",
    "        goal_based_df = df1[df1['Goal']==i]\n",
    "        output_file = f\"{op_folder_loc}\\\\Goal_{i}.csv\"\n",
    "        goal_based_df.to_csv(output_file, index=False)\n",
    "        \n",
    "    print(\"Successfully created new files based on the goal\")   "
   ]
  },
  {
   "cell_type": "code",
   "execution_count": null,
   "id": "4ec742be",
   "metadata": {},
   "outputs": [],
   "source": [
    "split_df_by_goal(\"D:\\\\2023_Q3.2_AllData_Before_20231215_CSV(1)\")"
   ]
  }
 ],
 "metadata": {
  "kernelspec": {
   "display_name": "Python 3 (ipykernel)",
   "language": "python",
   "name": "python3"
  },
  "language_info": {
   "codemirror_mode": {
    "name": "ipython",
    "version": 3
   },
   "file_extension": ".py",
   "mimetype": "text/x-python",
   "name": "python",
   "nbconvert_exporter": "python",
   "pygments_lexer": "ipython3",
   "version": "3.9.7"
  }
 },
 "nbformat": 4,
 "nbformat_minor": 5
}
